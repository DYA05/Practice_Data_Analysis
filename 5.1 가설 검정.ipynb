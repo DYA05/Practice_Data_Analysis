{
 "cells": [
  {
   "cell_type": "markdown",
   "id": "35c55018",
   "metadata": {},
   "source": [
    "# 5.1 가설 검정\n",
    "\n",
    "## 두 집단 평균 비교 -- 독립 표본 t-test (independent sample t-test)\n",
    "   - 목적 : 독립된 두 표본 집단의 평균 차이에 대한 가설 검정\n",
    "   - 예제 : K 모바일 대리점 내부 인테리어 종류에 따라 고객 선호도 차이가 톡계적으로 유의미한지 확인해본다\n",
    "\n",
    "(note : 마케팅 분야에서 AB테스트시 두 집단의 평균에 차이가 있는지 검정할 때 주로 사용된다)\n",
    "\n",
    "##### 귀무가설(H0)\n",
    "내부 인테리어 종류에 따라 고객 선호도에 차이가 없다.\n",
    "##### 대립가설(H1)\n",
    "내부 인테리어 종류에 따라 고객 선호도에 차이가 있다."
   ]
  },
  {
   "cell_type": "code",
   "execution_count": 2,
   "id": "019cea64",
   "metadata": {},
   "outputs": [],
   "source": [
    "# 필요 라이브러리 로딩\n",
    "import numpy as np\n",
    "import pandas as pd\n",
    "\n",
    "from scipy import stats # scipy : 수학 과학 공학에 특화된 라이브러리\n",
    "import matplotlib.pyplot as plt\n",
    "import seaborn as sns"
   ]
  },
  {
   "cell_type": "code",
   "execution_count": 282,
   "id": "a0d78530",
   "metadata": {},
   "outputs": [
    {
     "data": {
      "text/html": [
       "<div>\n",
       "<style scoped>\n",
       "    .dataframe tbody tr th:only-of-type {\n",
       "        vertical-align: middle;\n",
       "    }\n",
       "\n",
       "    .dataframe tbody tr th {\n",
       "        vertical-align: top;\n",
       "    }\n",
       "\n",
       "    .dataframe thead th {\n",
       "        text-align: right;\n",
       "    }\n",
       "</style>\n",
       "<table border=\"1\" class=\"dataframe\">\n",
       "  <thead>\n",
       "    <tr style=\"text-align: right;\">\n",
       "      <th></th>\n",
       "      <th>preference</th>\n",
       "      <th>interior</th>\n",
       "    </tr>\n",
       "  </thead>\n",
       "  <tbody>\n",
       "    <tr>\n",
       "      <th>0</th>\n",
       "      <td>62</td>\n",
       "      <td>classic</td>\n",
       "    </tr>\n",
       "    <tr>\n",
       "      <th>1</th>\n",
       "      <td>37</td>\n",
       "      <td>classic</td>\n",
       "    </tr>\n",
       "    <tr>\n",
       "      <th>2</th>\n",
       "      <td>33</td>\n",
       "      <td>classic</td>\n",
       "    </tr>\n",
       "    <tr>\n",
       "      <th>3</th>\n",
       "      <td>34</td>\n",
       "      <td>classic</td>\n",
       "    </tr>\n",
       "    <tr>\n",
       "      <th>4</th>\n",
       "      <td>36</td>\n",
       "      <td>classic</td>\n",
       "    </tr>\n",
       "  </tbody>\n",
       "</table>\n",
       "</div>"
      ],
      "text/plain": [
       "   preference interior\n",
       "0          62  classic\n",
       "1          37  classic\n",
       "2          33  classic\n",
       "3          34  classic\n",
       "4          36  classic"
      ]
     },
     "execution_count": 282,
     "metadata": {},
     "output_type": "execute_result"
    }
   ],
   "source": [
    "# 데이터셀 로딩\n",
    "# 제공되지 않아 제작\n",
    "\n",
    "\n",
    "# clasic 랜덤값 생성\n",
    "np.random.seed(1)\n",
    "pre1 = np.random.randint(25, 68, size= 5)\n",
    "np.random.seed(99)\n",
    "pre2 = np.random.randint(41, 52, size=10)\n",
    "classic_pre = np.concatenate([pre1,pre2])\n",
    "\n",
    "np.random.seed(1)\n",
    "pre3 = np.random.randint(35, 73, size = 5)\n",
    "np.random.seed(17)\n",
    "pre4 = np.random.randint(53, 67, size = 10)\n",
    "mordern_pre = np.concatenate([pre3,pre4])\n",
    "\n",
    "data = []\n",
    "for p in classic_pre:\n",
    "    data.append([p, 'classic'])\n",
    "    \n",
    "for p in mordern_pre:\n",
    "    data.append([p, 'mordern'])\n",
    "\n",
    "np_data = np.array(data)\n",
    "\n",
    "df = pd.DataFrame(np_data)\n",
    "df.columns = ['preference', 'interior']\n",
    "df = df.astype({'preference' : 'int'})\n",
    "df.head()\n",
    "\n",
    "\n"
   ]
  },
  {
   "cell_type": "code",
   "execution_count": 283,
   "id": "add089a0",
   "metadata": {},
   "outputs": [
    {
     "name": "stdout",
     "output_type": "stream",
     "text": [
      "<class 'pandas.core.frame.DataFrame'>\n",
      "RangeIndex: 30 entries, 0 to 29\n",
      "Data columns (total 2 columns):\n",
      " #   Column      Non-Null Count  Dtype \n",
      "---  ------      --------------  ----- \n",
      " 0   preference  30 non-null     int32 \n",
      " 1   interior    30 non-null     object\n",
      "dtypes: int32(1), object(1)\n",
      "memory usage: 488.0+ bytes\n"
     ]
    }
   ],
   "source": [
    "df.info()"
   ]
  },
  {
   "cell_type": "code",
   "execution_count": 284,
   "id": "757a8d82",
   "metadata": {},
   "outputs": [],
   "source": [
    "# 데이터셋 셔플\n",
    "# df.sample(frap=1, random_state=0)\n",
    "df = df.sample(frac=1, random_state=0).reset_index(drop=True)"
   ]
  },
  {
   "cell_type": "code",
   "execution_count": 285,
   "id": "454515b4",
   "metadata": {},
   "outputs": [
    {
     "data": {
      "text/html": [
       "<div>\n",
       "<style scoped>\n",
       "    .dataframe tbody tr th:only-of-type {\n",
       "        vertical-align: middle;\n",
       "    }\n",
       "\n",
       "    .dataframe tbody tr th {\n",
       "        vertical-align: top;\n",
       "    }\n",
       "\n",
       "    .dataframe thead th {\n",
       "        text-align: right;\n",
       "    }\n",
       "</style>\n",
       "<table border=\"1\" class=\"dataframe\">\n",
       "  <thead>\n",
       "    <tr style=\"text-align: right;\">\n",
       "      <th></th>\n",
       "      <th>preference</th>\n",
       "      <th>interior</th>\n",
       "    </tr>\n",
       "  </thead>\n",
       "  <tbody>\n",
       "    <tr>\n",
       "      <th>0</th>\n",
       "      <td>33</td>\n",
       "      <td>classic</td>\n",
       "    </tr>\n",
       "    <tr>\n",
       "      <th>1</th>\n",
       "      <td>60</td>\n",
       "      <td>mordern</td>\n",
       "    </tr>\n",
       "    <tr>\n",
       "      <th>2</th>\n",
       "      <td>46</td>\n",
       "      <td>classic</td>\n",
       "    </tr>\n",
       "    <tr>\n",
       "      <th>3</th>\n",
       "      <td>49</td>\n",
       "      <td>classic</td>\n",
       "    </tr>\n",
       "    <tr>\n",
       "      <th>4</th>\n",
       "      <td>59</td>\n",
       "      <td>mordern</td>\n",
       "    </tr>\n",
       "  </tbody>\n",
       "</table>\n",
       "</div>"
      ],
      "text/plain": [
       "   preference interior\n",
       "0          33  classic\n",
       "1          60  mordern\n",
       "2          46  classic\n",
       "3          49  classic\n",
       "4          59  mordern"
      ]
     },
     "execution_count": 285,
     "metadata": {},
     "output_type": "execute_result"
    }
   ],
   "source": [
    "df.head()"
   ]
  },
  {
   "cell_type": "code",
   "execution_count": 286,
   "id": "9150b4c9",
   "metadata": {},
   "outputs": [
    {
     "data": {
      "text/plain": [
       "(30, 2)"
      ]
     },
     "execution_count": 286,
     "metadata": {},
     "output_type": "execute_result"
    }
   ],
   "source": [
    "df.shape"
   ]
  },
  {
   "cell_type": "markdown",
   "id": "e5795870",
   "metadata": {},
   "source": [
    "### boxplot"
   ]
  },
  {
   "cell_type": "code",
   "execution_count": 288,
   "id": "5b2e5252",
   "metadata": {},
   "outputs": [
    {
     "data": {
      "text/plain": [
       "Text(0.5, 1.0, 'Box Plot of Preference of Interior')"
      ]
     },
     "execution_count": 288,
     "metadata": {},
     "output_type": "execute_result"
    },
    {
     "data": {
      "image/png": "[encoded data removed]",
      "text/plain": [
       "<Figure size 640x480 with 1 Axes>"
      ]
     },
     "metadata": {},
     "output_type": "display_data"
    }
   ],
   "source": [
    "p = sns.boxplot(x=df['interior'], y=df['preference'])\n",
    "p.set_title('Box Plot of Preference of Interior')"
   ]
  },
  {
   "cell_type": "markdown",
   "id": "ed11e1eb",
   "metadata": {},
   "source": [
    "### Assumption 1 : 독립성\n",
    "   - 독립변수 그룹은 서로 독립적\n",
    "\n",
    "두개의 집단을 구성하는 구성원이나 구성들이 서로 관계가 없음을 의미. 즉, 아무런 관계가 없어야함\n",
    "\n",
    "\n",
    "### Assumptoin 2 : 정규성 확인\n",
    "   - 귀무 가설과 대립 가설은 아래와 같습니다.\n",
    "      - H0 : 각 독립 표본이 정규성을 만족한다.\n",
    "      - H1 : 각 독립 표본이 정규성을 만족하지 않는다."
   ]
  },
  {
   "cell_type": "code",
   "execution_count": 289,
   "id": "397d3e15",
   "metadata": {},
   "outputs": [
    {
     "data": {
      "text/plain": [
       "mordern    15\n",
       "Name: interior, dtype: int64"
      ]
     },
     "execution_count": 289,
     "metadata": {},
     "output_type": "execute_result"
    }
   ],
   "source": [
    "#df[df['interior'] == 'classic'].head()\n",
    "df.loc[ df['interior'] == 'mordern', 'interior'].value_counts()"
   ]
  },
  {
   "cell_type": "code",
   "execution_count": 290,
   "id": "2bac8495",
   "metadata": {},
   "outputs": [
    {
     "name": "stdout",
     "output_type": "stream",
     "text": [
      "1     60\n",
      "4     59\n",
      "5     53\n",
      "6     57\n",
      "8     43\n",
      "9     59\n",
      "11    47\n",
      "14    62\n",
      "15    54\n",
      "17    57\n",
      "20    44\n",
      "21    46\n",
      "24    66\n",
      "27    59\n",
      "28    72\n",
      "Name: preference, dtype: int32\n"
     ]
    }
   ],
   "source": [
    "classic_pref = df.loc[df['interior'] == 'classic', 'preference']\n",
    "# classic_pref\n",
    "mordern_pref = df.loc[df['interior'] == 'mordern', 'preference']\n",
    "print(mordern_pref)"
   ]
  },
  {
   "cell_type": "code",
   "execution_count": 291,
   "id": "054b6c18",
   "metadata": {},
   "outputs": [
    {
     "data": {
      "text/plain": [
       "15"
      ]
     },
     "execution_count": 291,
     "metadata": {},
     "output_type": "execute_result"
    }
   ],
   "source": [
    "mordern_pref.size"
   ]
  },
  {
   "cell_type": "code",
   "execution_count": 292,
   "id": "483b2cba",
   "metadata": {},
   "outputs": [
    {
     "name": "stdout",
     "output_type": "stream",
     "text": [
      "classic 인테리어 선호도 정규성 shapiro test ShapiroResult(statistic=0.9390299916267395, pvalue=0.3703296184539795)\n",
      "mordern 인테리어 선호도 정규성 shapiro test ShapiroResult(statistic=0.9524288177490234, pvalue=0.563485860824585)\n"
     ]
    }
   ],
   "source": [
    "# 정규성을 충족하는지 확인 (statistic : 검증 통계량, pvalue : 유의 확률)\n",
    "print('classic 인테리어 선호도 정규성 shapiro test', stats.shapiro(classic_pref))\n",
    "print('mordern 인테리어 선호도 정규성 shapiro test', stats.shapiro(mordern_pref))"
   ]
  },
  {
   "cell_type": "markdown",
   "id": "ca491dca",
   "metadata": {},
   "source": [
    "##### 유의확률(pvalue)이 유의수준(실습에선 0.05) 보다 크기 때문에 귀무가설 채택\n",
    "##### 따라서 정규성 검정 결과, 두 집단 모두 정규성 가정을 만족"
   ]
  },
  {
   "cell_type": "markdown",
   "id": "0565e781",
   "metadata": {},
   "source": [
    "### Assumption 3 : 등 분산성 확인 (두 집단이 동일한 분산을 가지는가?)\n",
    "F 검정으로 확인\n",
    "\n",
    "   - H0 : 두 독립 표본의 분산은 동일하다\n",
    "   - H1 : 두 독립 표본의 분산은 동일하지 않다"
   ]
  },
  {
   "cell_type": "code",
   "execution_count": 293,
   "id": "ec4818f5",
   "metadata": {},
   "outputs": [
    {
     "name": "stdout",
     "output_type": "stream",
     "text": [
      "F statitstic : 0.8364\n",
      "p value : 0.629\n"
     ]
    }
   ],
   "source": [
    "f = np.var(classic_pref, ddof=1)/np.var(mordern_pref, ddof=1) # numpy의 variance는 population variance를 구함.\n",
    "classic_size = classic_pref.size - 1\n",
    "mordern_size = mordern_pref.size - 1\n",
    "\n",
    "p_value = 1 - stats.f.cdf(f, classic_size, mordern_size)\n",
    "print('F statitstic : {}'.format(np.round(f,4)))\n",
    "print('p value : {:.3f}'.format(p_value, 4))"
   ]
  },
  {
   "cell_type": "markdown",
   "id": "2ec5719f",
   "metadata": {},
   "source": [
    "##### 유의수준을 10%(0.1)로 하더라도 p value가 0.629 이기 때문에 분산은 동일 하다(가정 충족)"
   ]
  },
  {
   "cell_type": "code",
   "execution_count": 294,
   "id": "47e0513d",
   "metadata": {},
   "outputs": [],
   "source": [
    "# 함수로 만들때\n",
    "def f_test(g1,g2):\n",
    "    f = np.var(g1, ddof=1) / np.var(g2, ddof=1)\n",
    "    num =  g1.size - 1 # 분자\n",
    "    denom = g2.size - 1 # 분모\n",
    "    p_value = 1 - stats.f.cdf(f,num,denom)\n",
    "    \n",
    "    return f, p_value"
   ]
  },
  {
   "cell_type": "code",
   "execution_count": 295,
   "id": "b17ceec3",
   "metadata": {},
   "outputs": [
    {
     "name": "stdout",
     "output_type": "stream",
     "text": [
      "F 검정통계량 : 0.8364\n",
      "p value : 0.629\n"
     ]
    }
   ],
   "source": [
    "fnt = f_test(classic_pref, mordern_pref)\n",
    "print('F 검정통계량 : {:.4f}'.format(fnt[0]))\n",
    "print('p value : {:.3f}'.format(fnt[1]))"
   ]
  },
  {
   "cell_type": "markdown",
   "id": "5c71057e",
   "metadata": {},
   "source": [
    "### 독립표본 t 검정"
   ]
  },
  {
   "cell_type": "code",
   "execution_count": 296,
   "id": "0294b4db",
   "metadata": {},
   "outputs": [
    {
     "name": "stdout",
     "output_type": "stream",
     "text": [
      "44.333333333333336\n",
      "55.86666666666667\n"
     ]
    }
   ],
   "source": [
    "#평균확안\n",
    "print(np.mean(classic_pref))\n",
    "print(np.mean(mordern_pref))"
   ]
  },
  {
   "cell_type": "code",
   "execution_count": 297,
   "id": "7efce41a",
   "metadata": {},
   "outputs": [],
   "source": [
    "result = stats.ttest_ind(classic_pref, mordern_pref, equal_var=False)"
   ]
  },
  {
   "cell_type": "code",
   "execution_count": 298,
   "id": "66cdf63a",
   "metadata": {},
   "outputs": [
    {
     "data": {
      "text/plain": [
       "Ttest_indResult(statistic=-4.014734747346647, pvalue=0.0004085165518690764)"
      ]
     },
     "execution_count": 298,
     "metadata": {},
     "output_type": "execute_result"
    }
   ],
   "source": [
    "result"
   ]
  },
  {
   "cell_type": "code",
   "execution_count": 307,
   "id": "ec643f5e",
   "metadata": {},
   "outputs": [
    {
     "name": "stdout",
     "output_type": "stream",
     "text": [
      "classic 인테리어 평균 선호도 44.333\n",
      "mordern 인테리어 평균 선호도 55.867\n",
      "독립 표본 t 검정통계량 : -4.014\n",
      "p - value : 0.000\n"
     ]
    }
   ],
   "source": [
    "print('classic 인테리어 평균 선호도 {:.3f}'.format(np.mean(classic_pref)))\n",
    "print('mordern 인테리어 평균 선호도 {:.3f}'.format(np.mean(mordern_pref)))\n",
    "print('독립 표본 t 검정통계량 : {}'.format(result[0].astype(str)[:6]))\n",
    "print('p - value : {}'.format(result[1].astype(str)[:5]))"
   ]
  },
  {
   "cell_type": "markdown",
   "id": "26167fbf",
   "metadata": {},
   "source": [
    "### 가설 검정의 의미\n",
    "   - 한 가설에 대해 통계적 추론으로 가설의 채택 여부를 확률적으로 판정하는 방법\n",
    "   - 기존 이론을 의미하는 귀무가설과 연구자의 주장인 대립가설이 존재\n",
    "\n",
    "### 가설 검증 방법\n",
    "   - 종속변수와 독립변수의 유형에 입각하여 검정 방법설정 (예 : 단일 집단 평균 검정, 독립 표본 t 검정 등)\n",
    "\n",
    "### 가설 검정의 오류\n",
    "   - 제 1종 오류 : 귀무가설이 참이지만 기각을 할 경우 생기는 오류, '유의수준'(알파로 표시)이라고 불림\n",
    "   - 제 2종 오류 : 귀무가설이 거짓이지만 기각하지 못할 경우 생기는 오류(베타로 표시)"
   ]
  },
  {
   "cell_type": "code",
   "execution_count": null,
   "id": "5e774b61",
   "metadata": {},
   "outputs": [],
   "source": []
  }
 ],
 "metadata": {
  "kernelspec": {
   "display_name": "exam",
   "language": "python",
   "name": "exam"
  },
  "language_info": {
   "codemirror_mode": {
    "name": "ipython",
    "version": 3
   },
   "file_extension": ".py",
   "mimetype": "text/x-python",
   "name": "python",
   "nbconvert_exporter": "python",
   "pygments_lexer": "ipython3",
   "version": "3.7.1"
  }
 },
 "nbformat": 4,
 "nbformat_minor": 5
}
