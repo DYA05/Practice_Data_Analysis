{
 "cells": [
  {
   "cell_type": "markdown",
   "id": "0f34a54e",
   "metadata": {},
   "source": [
    "# 3. 데이터 전처리 이해와 실무"
   ]
  },
  {
   "cell_type": "markdown",
   "id": "8cd684e6",
   "metadata": {},
   "source": [
    "### 3.2 데이터 전제 : 이상치 데이터 처리\n",
    "\n",
    "### 이상치 다루기 (강의 교안)\n",
    "\n",
    "1. 이상치 데이터 확인\n",
    "- Z-score, IQR(interquartile Range)\n",
    "2. 이상치 처리\n",
    "- 삭제, 대체\n",
    "\n",
    "### 실습 내용 요약\n",
    "- 예제 데이터 내 이상치 확인 및 삭제/대체방안 실습\n",
    "\n",
    "### 실습 데이터\n",
    "- 이상치 강좌 실습을 위한 생성데이터 : 기사별 클릭 수 데이터\n",
    "\n",
    "### 실습시 활용 패키지\n",
    "- pandas\n",
    "- numpy\n",
    "- scipy|"
   ]
  },
  {
   "cell_type": "code",
   "execution_count": 1,
   "id": "134ce151",
   "metadata": {},
   "outputs": [],
   "source": [
    "import pandas as pd\n",
    "import numpy as np"
   ]
  },
  {
   "cell_type": "code",
   "execution_count": 4,
   "id": "1d175465",
   "metadata": {},
   "outputs": [
    {
     "data": {
      "text/html": [
       "<div>\n",
       "<style scoped>\n",
       "    .dataframe tbody tr th:only-of-type {\n",
       "        vertical-align: middle;\n",
       "    }\n",
       "\n",
       "    .dataframe tbody tr th {\n",
       "        vertical-align: top;\n",
       "    }\n",
       "\n",
       "    .dataframe thead th {\n",
       "        text-align: right;\n",
       "    }\n",
       "</style>\n",
       "<table border=\"1\" class=\"dataframe\">\n",
       "  <thead>\n",
       "    <tr style=\"text-align: right;\">\n",
       "      <th></th>\n",
       "      <th>category</th>\n",
       "      <th>Journal</th>\n",
       "      <th>num_click</th>\n",
       "    </tr>\n",
       "  </thead>\n",
       "  <tbody>\n",
       "    <tr>\n",
       "      <th>0</th>\n",
       "      <td>정치</td>\n",
       "      <td>A일보</td>\n",
       "      <td>1907.0</td>\n",
       "    </tr>\n",
       "    <tr>\n",
       "      <th>1</th>\n",
       "      <td>증권</td>\n",
       "      <td>A일보</td>\n",
       "      <td>1697.0</td>\n",
       "    </tr>\n",
       "    <tr>\n",
       "      <th>2</th>\n",
       "      <td>부동산</td>\n",
       "      <td>D일보</td>\n",
       "      <td>1676.0</td>\n",
       "    </tr>\n",
       "    <tr>\n",
       "      <th>3</th>\n",
       "      <td>사설</td>\n",
       "      <td>C일보</td>\n",
       "      <td>977.0</td>\n",
       "    </tr>\n",
       "    <tr>\n",
       "      <th>4</th>\n",
       "      <td>사회</td>\n",
       "      <td>D일보</td>\n",
       "      <td>2313.0</td>\n",
       "    </tr>\n",
       "    <tr>\n",
       "      <th>...</th>\n",
       "      <td>...</td>\n",
       "      <td>...</td>\n",
       "      <td>...</td>\n",
       "    </tr>\n",
       "    <tr>\n",
       "      <th>9995</th>\n",
       "      <td>사회</td>\n",
       "      <td>B일보</td>\n",
       "      <td>2184.0</td>\n",
       "    </tr>\n",
       "    <tr>\n",
       "      <th>9996</th>\n",
       "      <td>정치</td>\n",
       "      <td>D일보</td>\n",
       "      <td>1080.0</td>\n",
       "    </tr>\n",
       "    <tr>\n",
       "      <th>9997</th>\n",
       "      <td>사회</td>\n",
       "      <td>A일보</td>\n",
       "      <td>2583.0</td>\n",
       "    </tr>\n",
       "    <tr>\n",
       "      <th>9998</th>\n",
       "      <td>사회</td>\n",
       "      <td>B일보</td>\n",
       "      <td>2151.0</td>\n",
       "    </tr>\n",
       "    <tr>\n",
       "      <th>9999</th>\n",
       "      <td>정치</td>\n",
       "      <td>A일보</td>\n",
       "      <td>1655.0</td>\n",
       "    </tr>\n",
       "  </tbody>\n",
       "</table>\n",
       "<p>10000 rows × 3 columns</p>\n",
       "</div>"
      ],
      "text/plain": [
       "     category Journal  num_click\n",
       "0          정치     A일보     1907.0\n",
       "1          증권     A일보     1697.0\n",
       "2         부동산     D일보     1676.0\n",
       "3          사설     C일보      977.0\n",
       "4          사회     D일보     2313.0\n",
       "...       ...     ...        ...\n",
       "9995       사회     B일보     2184.0\n",
       "9996       정치     D일보     1080.0\n",
       "9997       사회     A일보     2583.0\n",
       "9998       사회     B일보     2151.0\n",
       "9999       정치     A일보     1655.0\n",
       "\n",
       "[10000 rows x 3 columns]"
      ]
     },
     "execution_count": 4,
     "metadata": {},
     "output_type": "execute_result"
    }
   ],
   "source": [
    "# 데이터 로딩 및 개요 확인\n",
    "# 실습데이터 제공받는다면 그 데이터로 해보기\n",
    "# click_data = pd.read_csv(\"./data/click_sample_data.csv\", encoding = 'cp949')\n",
    "# click_data.head\n",
    "\n",
    "# 실습데이터 임의로 만들기\n",
    "np.random.seed(1)\n",
    "cat_list = ['사설', '사회', '공학', '증권', '부동산', '정치', '스포츠']\n",
    "cat = np.random.randint(0,7, size=10000)\n",
    "\n",
    "np.random.seed(2)\n",
    "jour_list = ['A일보', 'B일보', 'C일보', 'D일보', 'E일보']\n",
    "jour = np.random.randint(0,5, size=10000)\n",
    "\n",
    "np.random.seed(3)\n",
    "num_click = np.random.randint(9, 3000, size=10000)\n",
    "\n",
    "make_data = []\n",
    "for i in range(10000):\n",
    "    make_data.append([cat_list[cat[i]], jour_list[jour[i]], num_click[i]])\n",
    "    \n",
    "# 이상치 만들기\n",
    "make_data[10][2] = 9\n",
    "make_data[1001][2] = 68\n",
    "make_data[1011][2] = 113\n",
    "make_data[2003][2] = 79\n",
    "make_data[9000][2] = 433992\n",
    "make_data[900][2] = 433992\n",
    "make_data[9003][2] = 433992\n",
    "make_data[9004][2] = 433992\n",
    "make_data[9005][2] = 233992\n",
    "make_data[9006][2] = 333992\n",
    "make_data[9007][2] = 333992\n",
    "\n",
    "#만든 데이터를 데이터프레임으로\n",
    "click_data = pd.DataFrame(np.array(make_data))\n",
    "click_data.columns = ['category', 'Journal', 'num_click']\n",
    "click_data['num_click'] = click_data['num_click'].astype(float)\n",
    "click_data\n",
    "\n"
   ]
  },
  {
   "cell_type": "code",
   "execution_count": 5,
   "id": "d1f5a9b5",
   "metadata": {},
   "outputs": [
    {
     "name": "stdout",
     "output_type": "stream",
     "text": [
      "<class 'pandas.core.frame.DataFrame'>\n",
      "RangeIndex: 10000 entries, 0 to 9999\n",
      "Data columns (total 3 columns):\n",
      " #   Column     Non-Null Count  Dtype  \n",
      "---  ------     --------------  -----  \n",
      " 0   category   10000 non-null  object \n",
      " 1   Journal    10000 non-null  object \n",
      " 2   num_click  10000 non-null  float64\n",
      "dtypes: float64(1), object(2)\n",
      "memory usage: 234.5+ KB\n"
     ]
    }
   ],
   "source": [
    "# 데이터 개오 파악\n",
    "click_data.info()\n",
    "\n",
    "# 데이터 카피\n",
    "click_copy = click_data.copy()"
   ]
  },
  {
   "cell_type": "code",
   "execution_count": 6,
   "id": "a914b43a",
   "metadata": {},
   "outputs": [
    {
     "data": {
      "text/plain": [
       "count     10000.000000\n",
       "mean       1764.480600\n",
       "std       10150.132161\n",
       "min           9.000000\n",
       "25%         738.750000\n",
       "50%        1522.500000\n",
       "75%        2251.000000\n",
       "max      433992.000000\n",
       "Name: num_click, dtype: float64"
      ]
     },
     "execution_count": 6,
     "metadata": {},
     "output_type": "execute_result"
    }
   ],
   "source": [
    "# describe 함수 활용 긴반의 수치형 변수인 num_click 컬럼 요약 통계확인\n",
    "click_copy['num_click'].describe()"
   ]
  },
  {
   "cell_type": "markdown",
   "id": "298c3591",
   "metadata": {},
   "source": [
    "- 최대 클릭수는 433992회 최소 9회 클릭되었음\n",
    "\n",
    "- 75% 수준의 클릭수는 1000회 정도의 결과를 보임에 따라, 일부 이상치 데이터가 존재하는 것으로 보여짐"
   ]
  },
  {
   "cell_type": "markdown",
   "id": "3997ff04",
   "metadata": {},
   "source": [
    "## 이상치 처리하기\n",
    "\n",
    "### 이상치 확인 방안 및 삭제하기\n",
    "\n",
    "1. Z-Score\n",
    "2. IQR\n",
    "\n",
    "- Z-score 수식\n",
    "    - z = (x - meen)(std.dev)\n",
    "    - z = (해당 관측치 - 관측치 변수 평균)/(관측치 변수의 표준편차)"
   ]
  },
  {
   "cell_type": "code",
   "execution_count": 7,
   "id": "6bbcf8b0",
   "metadata": {},
   "outputs": [
    {
     "data": {
      "text/html": [
       "<div>\n",
       "<style scoped>\n",
       "    .dataframe tbody tr th:only-of-type {\n",
       "        vertical-align: middle;\n",
       "    }\n",
       "\n",
       "    .dataframe tbody tr th {\n",
       "        vertical-align: top;\n",
       "    }\n",
       "\n",
       "    .dataframe thead th {\n",
       "        text-align: right;\n",
       "    }\n",
       "</style>\n",
       "<table border=\"1\" class=\"dataframe\">\n",
       "  <thead>\n",
       "    <tr style=\"text-align: right;\">\n",
       "      <th></th>\n",
       "      <th>category</th>\n",
       "      <th>Journal</th>\n",
       "      <th>num_click</th>\n",
       "      <th>z-score</th>\n",
       "    </tr>\n",
       "  </thead>\n",
       "  <tbody>\n",
       "    <tr>\n",
       "      <th>0</th>\n",
       "      <td>정치</td>\n",
       "      <td>A일보</td>\n",
       "      <td>1907.0</td>\n",
       "      <td>0.014042</td>\n",
       "    </tr>\n",
       "    <tr>\n",
       "      <th>1</th>\n",
       "      <td>증권</td>\n",
       "      <td>A일보</td>\n",
       "      <td>1697.0</td>\n",
       "      <td>-0.006649</td>\n",
       "    </tr>\n",
       "    <tr>\n",
       "      <th>2</th>\n",
       "      <td>부동산</td>\n",
       "      <td>D일보</td>\n",
       "      <td>1676.0</td>\n",
       "      <td>-0.008718</td>\n",
       "    </tr>\n",
       "    <tr>\n",
       "      <th>3</th>\n",
       "      <td>사설</td>\n",
       "      <td>C일보</td>\n",
       "      <td>977.0</td>\n",
       "      <td>-0.077587</td>\n",
       "    </tr>\n",
       "    <tr>\n",
       "      <th>4</th>\n",
       "      <td>사회</td>\n",
       "      <td>D일보</td>\n",
       "      <td>2313.0</td>\n",
       "      <td>0.054043</td>\n",
       "    </tr>\n",
       "  </tbody>\n",
       "</table>\n",
       "</div>"
      ],
      "text/plain": [
       "  category Journal  num_click   z-score\n",
       "0       정치     A일보     1907.0  0.014042\n",
       "1       증권     A일보     1697.0 -0.006649\n",
       "2      부동산     D일보     1676.0 -0.008718\n",
       "3       사설     C일보      977.0 -0.077587\n",
       "4       사회     D일보     2313.0  0.054043"
      ]
     },
     "execution_count": 7,
     "metadata": {},
     "output_type": "execute_result"
    }
   ],
   "source": [
    "# Z-score 컬럼 생성\n",
    "click_copy['z-score'] = (click_copy['num_click'] - np.mean(click_copy['num_click'])) / np.std(click_copy['num_click'])\n",
    "click_copy.head()"
   ]
  },
  {
   "cell_type": "code",
   "execution_count": 8,
   "id": "1b2ccd1f",
   "metadata": {},
   "outputs": [
    {
     "data": {
      "text/html": [
       "<div>\n",
       "<style scoped>\n",
       "    .dataframe tbody tr th:only-of-type {\n",
       "        vertical-align: middle;\n",
       "    }\n",
       "\n",
       "    .dataframe tbody tr th {\n",
       "        vertical-align: top;\n",
       "    }\n",
       "\n",
       "    .dataframe thead th {\n",
       "        text-align: right;\n",
       "    }\n",
       "</style>\n",
       "<table border=\"1\" class=\"dataframe\">\n",
       "  <thead>\n",
       "    <tr style=\"text-align: right;\">\n",
       "      <th></th>\n",
       "      <th>num_click</th>\n",
       "      <th>z-score</th>\n",
       "    </tr>\n",
       "  </thead>\n",
       "  <tbody>\n",
       "    <tr>\n",
       "      <th>count</th>\n",
       "      <td>10000.000000</td>\n",
       "      <td>1.000000e+04</td>\n",
       "    </tr>\n",
       "    <tr>\n",
       "      <th>mean</th>\n",
       "      <td>1764.480600</td>\n",
       "      <td>-4.938203e-17</td>\n",
       "    </tr>\n",
       "    <tr>\n",
       "      <th>std</th>\n",
       "      <td>10150.132161</td>\n",
       "      <td>1.000050e+00</td>\n",
       "    </tr>\n",
       "    <tr>\n",
       "      <th>min</th>\n",
       "      <td>9.000000</td>\n",
       "      <td>-1.729601e-01</td>\n",
       "    </tr>\n",
       "    <tr>\n",
       "      <th>25%</th>\n",
       "      <td>738.750000</td>\n",
       "      <td>-1.010609e-01</td>\n",
       "    </tr>\n",
       "    <tr>\n",
       "      <th>50%</th>\n",
       "      <td>1522.500000</td>\n",
       "      <td>-2.384133e-02</td>\n",
       "    </tr>\n",
       "    <tr>\n",
       "      <th>75%</th>\n",
       "      <td>2251.000000</td>\n",
       "      <td>4.793472e-02</td>\n",
       "    </tr>\n",
       "    <tr>\n",
       "      <th>max</th>\n",
       "      <td>433992.000000</td>\n",
       "      <td>4.258557e+01</td>\n",
       "    </tr>\n",
       "  </tbody>\n",
       "</table>\n",
       "</div>"
      ],
      "text/plain": [
       "           num_click       z-score\n",
       "count   10000.000000  1.000000e+04\n",
       "mean     1764.480600 -4.938203e-17\n",
       "std     10150.132161  1.000050e+00\n",
       "min         9.000000 -1.729601e-01\n",
       "25%       738.750000 -1.010609e-01\n",
       "50%      1522.500000 -2.384133e-02\n",
       "75%      2251.000000  4.793472e-02\n",
       "max    433992.000000  4.258557e+01"
      ]
     },
     "execution_count": 8,
     "metadata": {},
     "output_type": "execute_result"
    }
   ],
   "source": [
    "# 원본 데이터 내 z-score 확인\n",
    "click_copy.describe()"
   ]
  },
  {
   "cell_type": "code",
   "execution_count": 9,
   "id": "46d22a0c",
   "metadata": {},
   "outputs": [
    {
     "name": "stdout",
     "output_type": "stream",
     "text": [
      "<class 'pandas.core.frame.DataFrame'>\n",
      "Int64Index: 9993 entries, 0 to 9999\n",
      "Data columns (total 4 columns):\n",
      " #   Column     Non-Null Count  Dtype  \n",
      "---  ------     --------------  -----  \n",
      " 0   category   9993 non-null   object \n",
      " 1   Journal    9993 non-null   object \n",
      " 2   num_click  9993 non-null   float64\n",
      " 3   z-score    9993 non-null   float64\n",
      "dtypes: float64(2), object(2)\n",
      "memory usage: 390.4+ KB\n"
     ]
    }
   ],
   "source": [
    "# 이상치 처리하기 [삭제]\n",
    "# z-score 기반 이상치 제거 후 데이터 차원확인\n",
    "click_copy = click_copy[(click_copy['z-score'] < 3) & (click_copy['z-score'] > -3)]\n",
    "\n",
    "# 데이터 개요 확인\n",
    "click_copy.info()"
   ]
  },
  {
   "cell_type": "code",
   "execution_count": 10,
   "id": "24427550",
   "metadata": {},
   "outputs": [
    {
     "data": {
      "text/html": [
       "<div>\n",
       "<style scoped>\n",
       "    .dataframe tbody tr th:only-of-type {\n",
       "        vertical-align: middle;\n",
       "    }\n",
       "\n",
       "    .dataframe tbody tr th {\n",
       "        vertical-align: top;\n",
       "    }\n",
       "\n",
       "    .dataframe thead th {\n",
       "        text-align: right;\n",
       "    }\n",
       "</style>\n",
       "<table border=\"1\" class=\"dataframe\">\n",
       "  <thead>\n",
       "    <tr style=\"text-align: right;\">\n",
       "      <th></th>\n",
       "      <th>num_click</th>\n",
       "      <th>z-score</th>\n",
       "    </tr>\n",
       "  </thead>\n",
       "  <tbody>\n",
       "    <tr>\n",
       "      <th>count</th>\n",
       "      <td>9993.000000</td>\n",
       "      <td>9993.000000</td>\n",
       "    </tr>\n",
       "    <tr>\n",
       "      <th>mean</th>\n",
       "      <td>1501.737416</td>\n",
       "      <td>-0.025887</td>\n",
       "    </tr>\n",
       "    <tr>\n",
       "      <th>std</th>\n",
       "      <td>866.173486</td>\n",
       "      <td>0.085340</td>\n",
       "    </tr>\n",
       "    <tr>\n",
       "      <th>min</th>\n",
       "      <td>9.000000</td>\n",
       "      <td>-0.172960</td>\n",
       "    </tr>\n",
       "    <tr>\n",
       "      <th>25%</th>\n",
       "      <td>738.000000</td>\n",
       "      <td>-0.101135</td>\n",
       "    </tr>\n",
       "    <tr>\n",
       "      <th>50%</th>\n",
       "      <td>1521.000000</td>\n",
       "      <td>-0.023989</td>\n",
       "    </tr>\n",
       "    <tr>\n",
       "      <th>75%</th>\n",
       "      <td>2249.000000</td>\n",
       "      <td>0.047738</td>\n",
       "    </tr>\n",
       "    <tr>\n",
       "      <th>max</th>\n",
       "      <td>2999.000000</td>\n",
       "      <td>0.121632</td>\n",
       "    </tr>\n",
       "  </tbody>\n",
       "</table>\n",
       "</div>"
      ],
      "text/plain": [
       "         num_click      z-score\n",
       "count  9993.000000  9993.000000\n",
       "mean   1501.737416    -0.025887\n",
       "std     866.173486     0.085340\n",
       "min       9.000000    -0.172960\n",
       "25%     738.000000    -0.101135\n",
       "50%    1521.000000    -0.023989\n",
       "75%    2249.000000     0.047738\n",
       "max    2999.000000     0.121632"
      ]
     },
     "execution_count": 10,
     "metadata": {},
     "output_type": "execute_result"
    }
   ],
   "source": [
    "# 이상치 제거후 데이터 요약 통계 확인\n",
    "click_copy.describe()"
   ]
  },
  {
   "cell_type": "code",
   "execution_count": 13,
   "id": "b6f46142",
   "metadata": {},
   "outputs": [],
   "source": [
    "# Scipy 내 함수 제공\n",
    "\n",
    "from scipy.stats import zscore\n",
    "\n",
    "click_copy = click_data.copy()"
   ]
  },
  {
   "cell_type": "code",
   "execution_count": 18,
   "id": "35f38224",
   "metadata": {},
   "outputs": [
    {
     "name": "stdout",
     "output_type": "stream",
     "text": [
      "(9993, 4)\n"
     ]
    }
   ],
   "source": [
    "click_copy['z-score'] = zscore(click_copy['num_click'])\n",
    "click_copy = click_copy[(click_copy['z-score'] < 3) & (click_copy['z-score'] > -3)]\n",
    "print(click_copy.shape)"
   ]
  },
  {
   "cell_type": "code",
   "execution_count": 19,
   "id": "ebd8ef77",
   "metadata": {},
   "outputs": [
    {
     "data": {
      "text/html": [
       "<div>\n",
       "<style scoped>\n",
       "    .dataframe tbody tr th:only-of-type {\n",
       "        vertical-align: middle;\n",
       "    }\n",
       "\n",
       "    .dataframe tbody tr th {\n",
       "        vertical-align: top;\n",
       "    }\n",
       "\n",
       "    .dataframe thead th {\n",
       "        text-align: right;\n",
       "    }\n",
       "</style>\n",
       "<table border=\"1\" class=\"dataframe\">\n",
       "  <thead>\n",
       "    <tr style=\"text-align: right;\">\n",
       "      <th></th>\n",
       "      <th>num_click</th>\n",
       "      <th>z-score</th>\n",
       "    </tr>\n",
       "  </thead>\n",
       "  <tbody>\n",
       "    <tr>\n",
       "      <th>count</th>\n",
       "      <td>9993.000000</td>\n",
       "      <td>9.993000e+03</td>\n",
       "    </tr>\n",
       "    <tr>\n",
       "      <th>mean</th>\n",
       "      <td>1501.737416</td>\n",
       "      <td>-5.433905e-17</td>\n",
       "    </tr>\n",
       "    <tr>\n",
       "      <th>std</th>\n",
       "      <td>866.173486</td>\n",
       "      <td>1.000050e+00</td>\n",
       "    </tr>\n",
       "    <tr>\n",
       "      <th>min</th>\n",
       "      <td>9.000000</td>\n",
       "      <td>-1.723456e+00</td>\n",
       "    </tr>\n",
       "    <tr>\n",
       "      <th>25%</th>\n",
       "      <td>738.000000</td>\n",
       "      <td>-8.817814e-01</td>\n",
       "    </tr>\n",
       "    <tr>\n",
       "      <th>50%</th>\n",
       "      <td>1521.000000</td>\n",
       "      <td>2.223983e-02</td>\n",
       "    </tr>\n",
       "    <tr>\n",
       "      <th>75%</th>\n",
       "      <td>2249.000000</td>\n",
       "      <td>8.627602e-01</td>\n",
       "    </tr>\n",
       "    <tr>\n",
       "      <th>max</th>\n",
       "      <td>2999.000000</td>\n",
       "      <td>1.728681e+00</td>\n",
       "    </tr>\n",
       "  </tbody>\n",
       "</table>\n",
       "</div>"
      ],
      "text/plain": [
       "         num_click       z-score\n",
       "count  9993.000000  9.993000e+03\n",
       "mean   1501.737416 -5.433905e-17\n",
       "std     866.173486  1.000050e+00\n",
       "min       9.000000 -1.723456e+00\n",
       "25%     738.000000 -8.817814e-01\n",
       "50%    1521.000000  2.223983e-02\n",
       "75%    2249.000000  8.627602e-01\n",
       "max    2999.000000  1.728681e+00"
      ]
     },
     "execution_count": 19,
     "metadata": {},
     "output_type": "execute_result"
    }
   ],
   "source": [
    "# 기존 결과와 비교\n",
    "click_copy.describe()"
   ]
  },
  {
   "cell_type": "code",
   "execution_count": 20,
   "id": "96bb4a5c",
   "metadata": {},
   "outputs": [],
   "source": [
    "# IQR 판단 기반 이상치 처리\n",
    "# 원 데이터 카피\n",
    "click_copy = click_data.copy()"
   ]
  },
  {
   "cell_type": "code",
   "execution_count": 22,
   "id": "13c23c6a",
   "metadata": {},
   "outputs": [
    {
     "data": {
      "text/plain": [
       "1512.25"
      ]
     },
     "execution_count": 22,
     "metadata": {},
     "output_type": "execute_result"
    }
   ],
   "source": [
    "# 1,3분위수 (Q1,Q3) 후하기\n",
    "q1 = click_copy['num_click'].quantile(0.25)\n",
    "q3 = click_copy['num_click'].quantile(0.75)\n",
    "\n",
    "# IQR 구하기\n",
    "iqr = (q3 - q1)\n",
    "iqr"
   ]
  },
  {
   "cell_type": "code",
   "execution_count": 23,
   "id": "09dd11a9",
   "metadata": {},
   "outputs": [
    {
     "data": {
      "text/html": [
       "<div>\n",
       "<style scoped>\n",
       "    .dataframe tbody tr th:only-of-type {\n",
       "        vertical-align: middle;\n",
       "    }\n",
       "\n",
       "    .dataframe tbody tr th {\n",
       "        vertical-align: top;\n",
       "    }\n",
       "\n",
       "    .dataframe thead th {\n",
       "        text-align: right;\n",
       "    }\n",
       "</style>\n",
       "<table border=\"1\" class=\"dataframe\">\n",
       "  <thead>\n",
       "    <tr style=\"text-align: right;\">\n",
       "      <th></th>\n",
       "      <th>num_click</th>\n",
       "    </tr>\n",
       "  </thead>\n",
       "  <tbody>\n",
       "    <tr>\n",
       "      <th>count</th>\n",
       "      <td>9993.000000</td>\n",
       "    </tr>\n",
       "    <tr>\n",
       "      <th>mean</th>\n",
       "      <td>1501.737416</td>\n",
       "    </tr>\n",
       "    <tr>\n",
       "      <th>std</th>\n",
       "      <td>866.173486</td>\n",
       "    </tr>\n",
       "    <tr>\n",
       "      <th>min</th>\n",
       "      <td>9.000000</td>\n",
       "    </tr>\n",
       "    <tr>\n",
       "      <th>25%</th>\n",
       "      <td>738.000000</td>\n",
       "    </tr>\n",
       "    <tr>\n",
       "      <th>50%</th>\n",
       "      <td>1521.000000</td>\n",
       "    </tr>\n",
       "    <tr>\n",
       "      <th>75%</th>\n",
       "      <td>2249.000000</td>\n",
       "    </tr>\n",
       "    <tr>\n",
       "      <th>max</th>\n",
       "      <td>2999.000000</td>\n",
       "    </tr>\n",
       "  </tbody>\n",
       "</table>\n",
       "</div>"
      ],
      "text/plain": [
       "         num_click\n",
       "count  9993.000000\n",
       "mean   1501.737416\n",
       "std     866.173486\n",
       "min       9.000000\n",
       "25%     738.000000\n",
       "50%    1521.000000\n",
       "75%    2249.000000\n",
       "max    2999.000000"
      ]
     },
     "execution_count": 23,
     "metadata": {},
     "output_type": "execute_result"
    }
   ],
   "source": [
    "#IQR 기반 이상치 제거하기\n",
    "click_copy = click_copy[(click_copy['num_click'] > (q1 - 1.5 * iqr)) & (click_copy['num_click'] < (q3 + 1.5 * iqr))]\n",
    "click_copy.describe()"
   ]
  },
  {
   "cell_type": "code",
   "execution_count": 24,
   "id": "9e71ae35",
   "metadata": {},
   "outputs": [
    {
     "name": "stdout",
     "output_type": "stream",
     "text": [
      "(9993, 3)\n"
     ]
    }
   ],
   "source": [
    "# 이상치 제거후 데이터 확인\n",
    "print(np.shape(click_copy))"
   ]
  },
  {
   "cell_type": "markdown",
   "id": "69240b28",
   "metadata": {},
   "source": [
    "## 이상치 대체하기"
   ]
  },
  {
   "cell_type": "code",
   "execution_count": 25,
   "id": "2b4e69eb",
   "metadata": {},
   "outputs": [],
   "source": [
    "# 이상치 대체\n",
    "# 원 데이터 copy\n",
    "click_copy = click_data.copy()"
   ]
  },
  {
   "cell_type": "code",
   "execution_count": 26,
   "id": "f3749422",
   "metadata": {},
   "outputs": [],
   "source": [
    "# 대체할 기준 정의\n",
    "max_click = 1000"
   ]
  },
  {
   "cell_type": "code",
   "execution_count": 28,
   "id": "f54ef6b4",
   "metadata": {},
   "outputs": [
    {
     "data": {
      "text/html": [
       "<div>\n",
       "<style scoped>\n",
       "    .dataframe tbody tr th:only-of-type {\n",
       "        vertical-align: middle;\n",
       "    }\n",
       "\n",
       "    .dataframe tbody tr th {\n",
       "        vertical-align: top;\n",
       "    }\n",
       "\n",
       "    .dataframe thead th {\n",
       "        text-align: right;\n",
       "    }\n",
       "</style>\n",
       "<table border=\"1\" class=\"dataframe\">\n",
       "  <thead>\n",
       "    <tr style=\"text-align: right;\">\n",
       "      <th></th>\n",
       "      <th>num_click</th>\n",
       "      <th>new_num_click</th>\n",
       "    </tr>\n",
       "  </thead>\n",
       "  <tbody>\n",
       "    <tr>\n",
       "      <th>count</th>\n",
       "      <td>10000.000000</td>\n",
       "      <td>10000.000000</td>\n",
       "    </tr>\n",
       "    <tr>\n",
       "      <th>mean</th>\n",
       "      <td>1764.480600</td>\n",
       "      <td>832.669800</td>\n",
       "    </tr>\n",
       "    <tr>\n",
       "      <th>std</th>\n",
       "      <td>10150.132161</td>\n",
       "      <td>286.316357</td>\n",
       "    </tr>\n",
       "    <tr>\n",
       "      <th>min</th>\n",
       "      <td>9.000000</td>\n",
       "      <td>9.000000</td>\n",
       "    </tr>\n",
       "    <tr>\n",
       "      <th>25%</th>\n",
       "      <td>738.750000</td>\n",
       "      <td>738.750000</td>\n",
       "    </tr>\n",
       "    <tr>\n",
       "      <th>50%</th>\n",
       "      <td>1522.500000</td>\n",
       "      <td>1000.000000</td>\n",
       "    </tr>\n",
       "    <tr>\n",
       "      <th>75%</th>\n",
       "      <td>2251.000000</td>\n",
       "      <td>1000.000000</td>\n",
       "    </tr>\n",
       "    <tr>\n",
       "      <th>max</th>\n",
       "      <td>433992.000000</td>\n",
       "      <td>1000.000000</td>\n",
       "    </tr>\n",
       "  </tbody>\n",
       "</table>\n",
       "</div>"
      ],
      "text/plain": [
       "           num_click  new_num_click\n",
       "count   10000.000000   10000.000000\n",
       "mean     1764.480600     832.669800\n",
       "std     10150.132161     286.316357\n",
       "min         9.000000       9.000000\n",
       "25%       738.750000     738.750000\n",
       "50%      1522.500000    1000.000000\n",
       "75%      2251.000000    1000.000000\n",
       "max    433992.000000    1000.000000"
      ]
     },
     "execution_count": 28,
     "metadata": {},
     "output_type": "execute_result"
    }
   ],
   "source": [
    "# 정의 된 기준 으로 대체후 비교를 위해 컬럼 복사\n",
    "click_copy['new_num_click'] = click_copy['num_click']\n",
    "\n",
    "# 이상치 대체 (loc 함수에 주건부여하는 것 공부)\n",
    "click_copy.loc[click_copy['new_num_click']> max_click, 'new_num_click'] = max_click\n",
    "click_copy.describe()"
   ]
  },
  {
   "cell_type": "code",
   "execution_count": 29,
   "id": "7f4de242",
   "metadata": {},
   "outputs": [
    {
     "name": "stdout",
     "output_type": "stream",
     "text": [
      "<class 'pandas.core.frame.DataFrame'>\n",
      "RangeIndex: 10000 entries, 0 to 9999\n",
      "Data columns (total 4 columns):\n",
      " #   Column         Non-Null Count  Dtype  \n",
      "---  ------         --------------  -----  \n",
      " 0   category       10000 non-null  object \n",
      " 1   Journal        10000 non-null  object \n",
      " 2   num_click      10000 non-null  float64\n",
      " 3   new_num_click  10000 non-null  float64\n",
      "dtypes: float64(2), object(2)\n",
      "memory usage: 312.6+ KB\n"
     ]
    }
   ],
   "source": [
    "click_copy.info()"
   ]
  },
  {
   "cell_type": "code",
   "execution_count": null,
   "id": "3b590ab7",
   "metadata": {},
   "outputs": [],
   "source": []
  }
 ],
 "metadata": {
  "kernelspec": {
   "display_name": "exam",
   "language": "python",
   "name": "exam"
  },
  "language_info": {
   "codemirror_mode": {
    "name": "ipython",
    "version": 3
   },
   "file_extension": ".py",
   "mimetype": "text/x-python",
   "name": "python",
   "nbconvert_exporter": "python",
   "pygments_lexer": "ipython3",
   "version": "3.7.1"
  }
 },
 "nbformat": 4,
 "nbformat_minor": 5
}
